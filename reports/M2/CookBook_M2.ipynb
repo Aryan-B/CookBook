{
  "nbformat": 4,
  "nbformat_minor": 0,
  "metadata": {
    "colab": {
      "name": "CookBook M2.ipynb",
      "provenance": []
    },
    "kernelspec": {
      "name": "python3",
      "display_name": "Python 3"
    },
    "language_info": {
      "name": "python"
    },
    "widgets": {
      "application/vnd.jupyter.widget-state+json": {
        "111e14d23c31466bac2607e71b519d76": {
          "model_module": "@jupyter-widgets/controls",
          "model_name": "HBoxModel",
          "state": {
            "_view_name": "HBoxView",
            "_dom_classes": [],
            "_model_name": "HBoxModel",
            "_view_module": "@jupyter-widgets/controls",
            "_model_module_version": "1.5.0",
            "_view_count": null,
            "_view_module_version": "1.5.0",
            "box_style": "",
            "layout": "IPY_MODEL_ffd4c4e2fef04b4d9c1f2f17fded8010",
            "_model_module": "@jupyter-widgets/controls",
            "children": [
              "IPY_MODEL_c6b09b2a87184c47909f4bb7597cadb4",
              "IPY_MODEL_dd9bea232d4f4a3491125ade4e1cdf04"
            ]
          }
        },
        "ffd4c4e2fef04b4d9c1f2f17fded8010": {
          "model_module": "@jupyter-widgets/base",
          "model_name": "LayoutModel",
          "state": {
            "_view_name": "LayoutView",
            "grid_template_rows": null,
            "right": null,
            "justify_content": null,
            "_view_module": "@jupyter-widgets/base",
            "overflow": null,
            "_model_module_version": "1.2.0",
            "_view_count": null,
            "flex_flow": null,
            "width": null,
            "min_width": null,
            "border": null,
            "align_items": null,
            "bottom": null,
            "_model_module": "@jupyter-widgets/base",
            "top": null,
            "grid_column": null,
            "overflow_y": null,
            "overflow_x": null,
            "grid_auto_flow": null,
            "grid_area": null,
            "grid_template_columns": null,
            "flex": null,
            "_model_name": "LayoutModel",
            "justify_items": null,
            "grid_row": null,
            "max_height": null,
            "align_content": null,
            "visibility": null,
            "align_self": null,
            "height": null,
            "min_height": null,
            "padding": null,
            "grid_auto_rows": null,
            "grid_gap": null,
            "max_width": null,
            "order": null,
            "_view_module_version": "1.2.0",
            "grid_template_areas": null,
            "object_position": null,
            "object_fit": null,
            "grid_auto_columns": null,
            "margin": null,
            "display": null,
            "left": null
          }
        },
        "c6b09b2a87184c47909f4bb7597cadb4": {
          "model_module": "@jupyter-widgets/controls",
          "model_name": "FloatProgressModel",
          "state": {
            "_view_name": "ProgressView",
            "style": "IPY_MODEL_68f7587b783b48389165e7c957dc1eae",
            "_dom_classes": [],
            "description": "100%",
            "_model_name": "FloatProgressModel",
            "bar_style": "success",
            "max": 14212972,
            "_view_module": "@jupyter-widgets/controls",
            "_model_module_version": "1.5.0",
            "value": 14212972,
            "_view_count": null,
            "_view_module_version": "1.5.0",
            "orientation": "horizontal",
            "min": 0,
            "description_tooltip": null,
            "_model_module": "@jupyter-widgets/controls",
            "layout": "IPY_MODEL_45ceeabc887c484b9dfca13c8072ab7e"
          }
        },
        "dd9bea232d4f4a3491125ade4e1cdf04": {
          "model_module": "@jupyter-widgets/controls",
          "model_name": "HTMLModel",
          "state": {
            "_view_name": "HTMLView",
            "style": "IPY_MODEL_7bb8a1d4db5542709a4103d4d4445dec",
            "_dom_classes": [],
            "description": "",
            "_model_name": "HTMLModel",
            "placeholder": "​",
            "_view_module": "@jupyter-widgets/controls",
            "_model_module_version": "1.5.0",
            "value": " 13.6M/13.6M [00:13&lt;00:00, 1.05MB/s]",
            "_view_count": null,
            "_view_module_version": "1.5.0",
            "description_tooltip": null,
            "_model_module": "@jupyter-widgets/controls",
            "layout": "IPY_MODEL_0748816f7275495babe9a1ebc035961a"
          }
        },
        "68f7587b783b48389165e7c957dc1eae": {
          "model_module": "@jupyter-widgets/controls",
          "model_name": "ProgressStyleModel",
          "state": {
            "_view_name": "StyleView",
            "_model_name": "ProgressStyleModel",
            "description_width": "initial",
            "_view_module": "@jupyter-widgets/base",
            "_model_module_version": "1.5.0",
            "_view_count": null,
            "_view_module_version": "1.2.0",
            "bar_color": null,
            "_model_module": "@jupyter-widgets/controls"
          }
        },
        "45ceeabc887c484b9dfca13c8072ab7e": {
          "model_module": "@jupyter-widgets/base",
          "model_name": "LayoutModel",
          "state": {
            "_view_name": "LayoutView",
            "grid_template_rows": null,
            "right": null,
            "justify_content": null,
            "_view_module": "@jupyter-widgets/base",
            "overflow": null,
            "_model_module_version": "1.2.0",
            "_view_count": null,
            "flex_flow": null,
            "width": null,
            "min_width": null,
            "border": null,
            "align_items": null,
            "bottom": null,
            "_model_module": "@jupyter-widgets/base",
            "top": null,
            "grid_column": null,
            "overflow_y": null,
            "overflow_x": null,
            "grid_auto_flow": null,
            "grid_area": null,
            "grid_template_columns": null,
            "flex": null,
            "_model_name": "LayoutModel",
            "justify_items": null,
            "grid_row": null,
            "max_height": null,
            "align_content": null,
            "visibility": null,
            "align_self": null,
            "height": null,
            "min_height": null,
            "padding": null,
            "grid_auto_rows": null,
            "grid_gap": null,
            "max_width": null,
            "order": null,
            "_view_module_version": "1.2.0",
            "grid_template_areas": null,
            "object_position": null,
            "object_fit": null,
            "grid_auto_columns": null,
            "margin": null,
            "display": null,
            "left": null
          }
        },
        "7bb8a1d4db5542709a4103d4d4445dec": {
          "model_module": "@jupyter-widgets/controls",
          "model_name": "DescriptionStyleModel",
          "state": {
            "_view_name": "StyleView",
            "_model_name": "DescriptionStyleModel",
            "description_width": "",
            "_view_module": "@jupyter-widgets/base",
            "_model_module_version": "1.5.0",
            "_view_count": null,
            "_view_module_version": "1.2.0",
            "_model_module": "@jupyter-widgets/controls"
          }
        },
        "0748816f7275495babe9a1ebc035961a": {
          "model_module": "@jupyter-widgets/base",
          "model_name": "LayoutModel",
          "state": {
            "_view_name": "LayoutView",
            "grid_template_rows": null,
            "right": null,
            "justify_content": null,
            "_view_module": "@jupyter-widgets/base",
            "overflow": null,
            "_model_module_version": "1.2.0",
            "_view_count": null,
            "flex_flow": null,
            "width": null,
            "min_width": null,
            "border": null,
            "align_items": null,
            "bottom": null,
            "_model_module": "@jupyter-widgets/base",
            "top": null,
            "grid_column": null,
            "overflow_y": null,
            "overflow_x": null,
            "grid_auto_flow": null,
            "grid_area": null,
            "grid_template_columns": null,
            "flex": null,
            "_model_name": "LayoutModel",
            "justify_items": null,
            "grid_row": null,
            "max_height": null,
            "align_content": null,
            "visibility": null,
            "align_self": null,
            "height": null,
            "min_height": null,
            "padding": null,
            "grid_auto_rows": null,
            "grid_gap": null,
            "max_width": null,
            "order": null,
            "_view_module_version": "1.2.0",
            "grid_template_areas": null,
            "object_position": null,
            "object_fit": null,
            "grid_auto_columns": null,
            "margin": null,
            "display": null,
            "left": null
          }
        }
      }
    }
  },
  "cells": [
    {
      "cell_type": "code",
      "metadata": {
        "id": "v2bcnpDK8NUe"
      },
      "source": [
        "import requests\n",
        "import re, time\n",
        "import torch, torchvision\n",
        "from torch import nn, optim\n",
        "from torchvision import datasets, models, transforms\n",
        "import matplotlib.pyplot as plt"
      ],
      "execution_count": null,
      "outputs": []
    },
    {
      "cell_type": "code",
      "metadata": {
        "id": "yqXlEZWt8PQp"
      },
      "source": [
        "from google.colab import drive\n",
        "drive.mount('/content/drive')\n",
        "\n",
        "!unzip '/content/drive/MyDrive/Fru_Veg_M1.zip' "
      ],
      "execution_count": null,
      "outputs": []
    },
    {
      "cell_type": "code",
      "metadata": {
        "id": "ykuAL4Mb8RSz"
      },
      "source": [
        "xform = transforms.Compose([transforms.Resize((100,100)), transforms.ToTensor()])\n",
        "dataset_test = datasets.ImageFolder('/content/Fru_Veg_M1/test', transform=xform)\n",
        "dataset_train = datasets.ImageFolder('/content/Fru_Veg_M1/train', transform=xform)"
      ],
      "execution_count": null,
      "outputs": []
    },
    {
      "cell_type": "code",
      "metadata": {
        "colab": {
          "base_uri": "https://localhost:8080/",
          "height": 82,
          "referenced_widgets": [
            "111e14d23c31466bac2607e71b519d76",
            "ffd4c4e2fef04b4d9c1f2f17fded8010",
            "c6b09b2a87184c47909f4bb7597cadb4",
            "dd9bea232d4f4a3491125ade4e1cdf04",
            "68f7587b783b48389165e7c957dc1eae",
            "45ceeabc887c484b9dfca13c8072ab7e",
            "7bb8a1d4db5542709a4103d4d4445dec",
            "0748816f7275495babe9a1ebc035961a"
          ]
        },
        "id": "UXp5Ea--8SgV",
        "outputId": "ee331d5e-94d5-4162-d07b-7db8679d0f92"
      },
      "source": [
        "loader_train = torch.utils.data.DataLoader(dataset_train, batch_size=4, shuffle=True)\n",
        "loader_test = torch.utils.data.DataLoader(dataset_test, batch_size=4, shuffle=True)\n",
        "\n",
        "model = models.mobilenet_v2(pretrained=True)"
      ],
      "execution_count": null,
      "outputs": [
        {
          "output_type": "stream",
          "text": [
            "Downloading: \"https://download.pytorch.org/models/mobilenet_v2-b0353104.pth\" to /root/.cache/torch/hub/checkpoints/mobilenet_v2-b0353104.pth\n"
          ],
          "name": "stderr"
        },
        {
          "output_type": "display_data",
          "data": {
            "application/vnd.jupyter.widget-view+json": {
              "model_id": "111e14d23c31466bac2607e71b519d76",
              "version_minor": 0,
              "version_major": 2
            },
            "text/plain": [
              "HBox(children=(FloatProgress(value=0.0, max=14212972.0), HTML(value='')))"
            ]
          },
          "metadata": {
            "tags": []
          }
        },
        {
          "output_type": "stream",
          "text": [
            "\n"
          ],
          "name": "stdout"
        }
      ]
    },
    {
      "cell_type": "code",
      "metadata": {
        "id": "TnFlb2DV8Tom"
      },
      "source": [
        "device = torch.device('cuda:0')\n",
        "model = model.to(device)\n",
        "\n",
        "optimizer = optim.SGD(model.parameters(), lr=0.001, momentum=0.9)\n",
        "scheduler = optim.lr_scheduler.StepLR(optimizer, step_size=5, gamma=0.1)\n",
        "criterion = nn.CrossEntropyLoss()"
      ],
      "execution_count": null,
      "outputs": []
    },
    {
      "cell_type": "code",
      "metadata": {
        "id": "JPMs6LLs8U43"
      },
      "source": [
        "def run_test(model):\n",
        "    nsamples_test = len(dataset_test)\n",
        "    loss, correct = 0, 0\n",
        "    model.eval()\n",
        "    with torch.no_grad():\n",
        "        for samples, labels in loader_test:\n",
        "            samples = samples.to(device)\n",
        "            labels = labels.to(device)\n",
        "            outs = model(samples)\n",
        "            loss += criterion(outs, labels)\n",
        "            _, preds = torch.max(outs.detach(), 1)\n",
        "            correct_mask = preds == labels\n",
        "            correct += correct_mask.sum(0).item()\n",
        "    return loss / nsamples_test, correct / nsamples_test\n",
        "\n",
        "def run_train(model, opt, sched):\n",
        "    nsamples_train = len(dataset_train)\n",
        "    loss_sofar, correct_sofar = 0, 0\n",
        "    model.train()\n",
        "    with torch.enable_grad():\n",
        "        for samples, labels in loader_train:\n",
        "            samples = samples.to(device)\n",
        "            labels = labels.to(device)\n",
        "            opt.zero_grad()\n",
        "            outs = model(samples)\n",
        "            _, preds = torch.max(outs.detach(), 1)\n",
        "            loss = criterion(outs, labels)\n",
        "            loss.backward()\n",
        "            opt.step()\n",
        "            loss_sofar += loss.item() * samples.size(0)\n",
        "            correct_sofar += torch.sum(preds == labels.detach())\n",
        "    sched.step()\n",
        "    return loss_sofar / nsamples_train, correct_sofar / nsamples_train\n",
        "\n",
        "def run_all(model, optimizer, scheduler, n_epochs):\n",
        "    for epoch in range(n_epochs):\n",
        "        loss_train, acc_train = run_train(model, optimizer, scheduler)\n",
        "        loss_test, acc_test = run_test(model)\n",
        "        print(f\"epoch {epoch}: train loss {loss_train:.4f} acc {acc_train:.4f}, test loss {loss_test:.4f} acc {acc_test:.4f}\")"
      ],
      "execution_count": null,
      "outputs": []
    },
    {
      "cell_type": "code",
      "metadata": {
        "colab": {
          "base_uri": "https://localhost:8080/"
        },
        "id": "2Vz6387t8WgD",
        "outputId": "c1f23069-ffec-4b09-e19f-fef307c81748"
      },
      "source": [
        "run_all(model, optimizer, scheduler, 5)"
      ],
      "execution_count": null,
      "outputs": [
        {
          "output_type": "stream",
          "text": [
            "/usr/local/lib/python3.7/dist-packages/PIL/TiffImagePlugin.py:788: UserWarning: Corrupt EXIF data.  Expecting to read 4 bytes but only got 0. \n",
            "  warnings.warn(str(msg))\n",
            "/usr/local/lib/python3.7/dist-packages/PIL/Image.py:960: UserWarning: Palette images with Transparency expressed in bytes should be converted to RGBA images\n",
            "  \"Palette images with Transparency expressed in bytes should be \"\n"
          ],
          "name": "stderr"
        },
        {
          "output_type": "stream",
          "text": [
            "epoch 0: train loss 1.4163 acc 0.6531, test loss 0.1314 acc 0.8681\n",
            "epoch 1: train loss 0.5813 acc 0.8420, test loss 0.0992 acc 0.9022\n",
            "epoch 2: train loss 0.4219 acc 0.8841, test loss 0.0791 acc 0.9199\n",
            "epoch 3: train loss 0.3558 acc 0.8996, test loss 0.0734 acc 0.9268\n",
            "epoch 4: train loss 0.2919 acc 0.9162, test loss 0.0772 acc 0.9297\n"
          ],
          "name": "stdout"
        }
      ]
    },
    {
      "cell_type": "code",
      "metadata": {
        "id": "4NNIi-ld57rG"
      },
      "source": [
        "!git clone https://github.com/ostrolucky/Bulk-Bing-Image-downloader.git\n",
        "\n",
        "%run /content/Bulk-Bing-Image-downloader/bbid.py -s \"apricot\" -o \"datasets/apricot\" --limit '100'\n",
        "%run /content/Bulk-Bing-Image-downloader/bbid.py -s \"avocado\" -o \"datasets/avocado\" --limit '100'\n",
        "%run /content/Bulk-Bing-Image-downloader/bbid.py -s \"blueberry\" -o \"datasets/blueberry\" --limit '100'\n",
        "%run /content/Bulk-Bing-Image-downloader/bbid.py -s \"cactus fruit\" -o \"datasets/cactusfruit\" --limit '100'\n",
        "%run /content/Bulk-Bing-Image-downloader/bbid.py -s \"Carambula\" -o \"datasets/Carambula\" --limit '100'\n",
        "%run /content/Bulk-Bing-Image-downloader/bbid.py -s \"Chestnut\" -o \"datasets/Chestnut\" --limit '100'\n",
        "%run /content/Bulk-Bing-Image-downloader/bbid.py -s \"Clementine\" -o \"datasets/Clementine\" --limit '100'\n",
        "%run /content/Bulk-Bing-Image-downloader/bbid.py -s \"Coconut\" -o \"datasets/Coconut\" --limit '100'\n",
        "%run /content/Bulk-Bing-Image-downloader/bbid.py -s \"Corn\" -o \"datasets/Corn\" --limit '100'\n",
        "%run /content/Bulk-Bing-Image-downloader/bbid.py -s \"Corn Husk\" -o \"datasets/CornHusk\" --limit '100'\n",
        "%run /content/Bulk-Bing-Image-downloader/bbid.py -s \"Dates\" -o \"datasets/Dates\" --limit '100' \n",
        "%run /content/Bulk-Bing-Image-downloader/bbid.py -s \"Dragonfruit\" -o \"datasets/Dragonfruit\" --limit '100'\n",
        "%run /content/Bulk-Bing-Image-downloader/bbid.py -s \"Fig\" -o \"datasets/Fig\" --limit '100'\n",
        "%run /content/Bulk-Bing-Image-downloader/bbid.py -s \"Granadilla\" -o \"datasets/Granadilla\" --limit '100'\n",
        "%run /content/Bulk-Bing-Image-downloader/bbid.py -s \"Grapefruit\" -o \"datasets/Grapefruit\" --limit '100'\n",
        "%run /content/Bulk-Bing-Image-downloader/bbid.py -s \"Hazelnut\" -o \"datasets/Hazelnut\" --limit '100'\n",
        "%run /content/Bulk-Bing-Image-downloader/bbid.py -s \"Huckleberry\" -o \"datasets/Huckleberry\" --limit '100'\n",
        "%run /content/Bulk-Bing-Image-downloader/bbid.py -s \"Kaki\" -o \"datasets/Kaki\" --limit '100'\n",
        "%run /content/Bulk-Bing-Image-downloader/bbid.py -s \"Kohlrabi\" -o \"datasets/Kohlrabi\" --limit '100'\n",
        "%run /content/Bulk-Bing-Image-downloader/bbid.py -s \"Kumquats\" -o \"datasets/Kumquats\" --limit '100'\n",
        "%run /content/Bulk-Bing-Image-downloader/bbid.py -s \"Limes\" -o \"datasets/Limes\" --limit '100'\n",
        "%run /content/Bulk-Bing-Image-downloader/bbid.py -s \"Lychee\" -o \"datasets/Lychee\" --limit '100'\n",
        "%run /content/Bulk-Bing-Image-downloader/bbid.py -s \"Mandarine\" -o \"datasets/Mandarine\" --limit '100'\n",
        "%run /content/Bulk-Bing-Image-downloader/bbid.py -s \"Mangostan\" -o \"datasets/Mangostan\" --limit '100'\n",
        "%run /content/Bulk-Bing-Image-downloader/bbid.py -s \"Maracuja\" -o \"datasets/Maracuja\" --limit '100'\n",
        "%run /content/Bulk-Bing-Image-downloader/bbid.py -s \"Melon Piel de Sapo\" -o \"datasets/Melon_Piel_de_Sapo\" --limit '100'\n",
        "%run /content/Bulk-Bing-Image-downloader/bbid.py -s \"Mulberry\" -o \"datasets/Mulberry\" --limit '100'\n",
        "%run /content/Bulk-Bing-Image-downloader/bbid.py -s \"Nectarine\" -o \"datasets/Nectarine\" --limit '100'\n",
        "%run /content/Bulk-Bing-Image-downloader/bbid.py -s \"Papaya\" -o \"datasets/Papaya\" --limit '100'\n",
        "%run /content/Bulk-Bing-Image-downloader/bbid.py -s \"Passion Fruit\" -o \"datasets/Passion_Fruit\" --limit '100'\n",
        "%run /content/Bulk-Bing-Image-downloader/bbid.py -s \"Pepino Fruit\" -o \"datasets/Pepino\" --limit '100'\n",
        "%run /content/Bulk-Bing-Image-downloader/bbid.py -s \"Physalis\" -o \"datasets/Physalis\" --limit '100'\n",
        "%run /content/Bulk-Bing-Image-downloader/bbid.py -s \"Tamarillo\" -o \"datasets/Tamarillo\" --limit '100'\n",
        "%run /content/Bulk-Bing-Image-downloader/bbid.py -s \"Walnut\" -o \"datasets/Walnut\" --limit '100'\n",
        "\n",
        "!zip -r /content/datasets.zip /content/datasets"
      ],
      "execution_count": null,
      "outputs": []
    },
    {
      "cell_type": "code",
      "metadata": {
        "id": "_0NvfNarEHdA"
      },
      "source": [
        "# plots training and validation accuracy on an accuracy vs epochs graph, useful for improving model\n",
        "acc = history.history['accuracy']\n",
        "val_acc = history.history['val_accuracy']\n",
        "\n",
        "loss = history.history['loss']\n",
        "val_loss = history.history['val_loss']\n",
        "\n",
        "plt.figure(figsize=(8, 8))\n",
        "plt.subplot(2, 1, 1)\n",
        "plt.plot(acc, label='Training Accuracy')\n",
        "plt.plot(val_acc, label='Validation Accuracy')\n",
        "plt.legend(loc='lower right')\n",
        "plt.ylabel('Accuracy')\n",
        "plt.ylim([min(plt.ylim()),1])\n",
        "plt.title('Training and Validation Accuracy')\n",
        "\n",
        "plt.subplot(2, 1, 2)\n",
        "plt.plot(loss, label='Training Loss')\n",
        "plt.plot(val_loss, label='Validation Loss')\n",
        "plt.legend(loc='upper right')\n",
        "plt.ylabel('Cross Entropy')\n",
        "plt.ylim([0,1.0])\n",
        "plt.title('Training and Validation Loss')\n",
        "plt.xlabel('epoch')\n",
        "plt.show()"
      ],
      "execution_count": null,
      "outputs": []
    }
  ]
}